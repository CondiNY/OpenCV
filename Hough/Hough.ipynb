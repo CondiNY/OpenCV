{
 "cells": [
  {
   "cell_type": "markdown",
   "metadata": {},
   "source": [
    "# 霍夫变换"
   ]
  },
  {
   "cell_type": "markdown",
   "metadata": {},
   "source": [
    "- 霍夫变换API，标准的霍夫变换HoughLines从平面转换到空间，最终输出的是（角度，R）。霍夫变换直线概率HoughLinesP最终输出直线的两点。"
   ]
  },
  {
   "cell_type": "code",
   "execution_count": 49,
   "metadata": {
    "collapsed": true
   },
   "outputs": [],
   "source": [
    "import cv2\n",
    "import numpy as np"
   ]
  },
  {
   "cell_type": "code",
   "execution_count": 21,
   "metadata": {
    "collapsed": true
   },
   "outputs": [],
   "source": [
    "#!/usr/bin/env python  \n",
    "# encoding: utf-8  \n",
    "import cv2  \n",
    "import numpy as np \n",
    "\n",
    "img = cv2.imread(\"./input/paod.png\")  \n",
    "\n",
    "# 高斯滤波\n",
    "# img = cv2.GaussianBlur(img,(3,3),0)  \n",
    "# 边缘提取\n",
    "edges = cv2.Canny(img, 110, 255, apertureSize = 3)  \n",
    "# cv2.imshow('edges', edges) \n",
    "\n",
    "# 开运算\n",
    "#OpenCV定义的结构元素  \n",
    "kernel = cv2.getStructuringElement(cv2.MORPH_RECT,(13,3))  \n",
    "#膨胀图像  \n",
    "dilated = cv2.dilate(edges,kernel)  \n",
    "#腐蚀图像  \n",
    "eroded = cv2.erode(dilated,kernel)  \n",
    "#显示腐蚀后的图像    \n",
    "cv2.imshow(\"Eroded Image\",eroded);    \n",
    "#经验参数  \n",
    "minLineLength = 200  \n",
    "maxLineGap = 5 \n",
    "lines = cv2.HoughLinesP(eroded,1,np.pi/180,170,minLineLength,maxLineGap)  \n",
    "for i in range(len(lines)):\n",
    "    for x1,y1,x2,y2 in lines[i]:  \n",
    "        cv2.line(img,(x1,y1),(x2,y2),(0,255,0),2)  \n",
    "#         print(lines[i])\n",
    "cv2.imshow('Result', img)  \n",
    "cv2.waitKey(0)  \n",
    "cv2.destroyAllWindows() \n"
   ]
  },
  {
   "cell_type": "code",
   "execution_count": null,
   "metadata": {
    "collapsed": true
   },
   "outputs": [],
   "source": []
  }
 ],
 "metadata": {
  "kernelspec": {
   "display_name": "Python 3",
   "language": "python",
   "name": "python3"
  },
  "language_info": {
   "codemirror_mode": {
    "name": "ipython",
    "version": 3
   },
   "file_extension": ".py",
   "mimetype": "text/x-python",
   "name": "python",
   "nbconvert_exporter": "python",
   "pygments_lexer": "ipython3",
   "version": "3.6.3"
  }
 },
 "nbformat": 4,
 "nbformat_minor": 2
}
