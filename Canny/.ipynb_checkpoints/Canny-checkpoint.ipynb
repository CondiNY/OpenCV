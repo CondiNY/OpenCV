{
 "cells": [
  {
   "cell_type": "markdown",
   "metadata": {},
   "source": [
    "# Canny边缘检测"
   ]
  },
  {
   "cell_type": "markdown",
   "metadata": {},
   "source": [
    "- API\n",
    "- edge = cv2.Canny(image, threshold1, threshold2[, edges[, apertureSize[, L2gradient ]]])  \n",
    "* edge  --  函数返回 一副二值图（黑白），其中包含检测出来的边缘\n",
    "* image --   需要处理的原图像，该图像必须为单通道的灰度图\n",
    "* threshold1  --  阈值1\n",
    "* threshold2  --  阈值2，threshold2  是较大的阈值，用于检测图像中明显的边缘，但一般情况下检测的效果不会那么完美，边缘检测出来是断断续续的。所以这时候用较小的 threshold1  （第一个阈值）用于将这些间断的边缘连接起来。\n",
    "* apertureSize  --  Sobel 算子的大小。\n",
    "* L2gradient   --  一个布尔值，如果为 True ,刚使用更精确的 L2 范数进行计算（即两个方向的倒数的平方和再开放）， False 将使用L1 范数（直接将两个方向导数的绝对值相加）。\n",
    "\n",
    "- 一般阈值越大，保留的边缘越小。\n"
   ]
  },
  {
   "cell_type": "code",
   "execution_count": 2,
   "metadata": {
    "collapsed": true
   },
   "outputs": [],
   "source": [
    "import cv2    \n",
    "import numpy as np   "
   ]
  },
  {
   "cell_type": "code",
   "execution_count": 3,
   "metadata": {},
   "outputs": [],
   "source": [
    "img = cv2.imread(\"./input/paod.png\",0)   # Canny只能处理灰度图，所以将读取的图像转成灰度图  \n",
    "cv2.imshow('img',img)   \n",
    "img = cv2.GaussianBlur(img,(3,3),0) #高斯平滑处理原图像降噪   \n",
    "canny = cv2.Canny(img, 100, 255,apertureSize = 3)      #apertureSize默认为3  \n",
    "    \n",
    "cv2.imshow('Canny', canny)    \n",
    "cv2.waitKey(0)    \n",
    "cv2.destroyAllWindows()    "
   ]
  },
  {
   "cell_type": "code",
   "execution_count": null,
   "metadata": {
    "collapsed": true
   },
   "outputs": [],
   "source": []
  }
 ],
 "metadata": {
  "kernelspec": {
   "display_name": "Python 3",
   "language": "python",
   "name": "python3"
  },
  "language_info": {
   "codemirror_mode": {
    "name": "ipython",
    "version": 3
   },
   "file_extension": ".py",
   "mimetype": "text/x-python",
   "name": "python",
   "nbconvert_exporter": "python",
   "pygments_lexer": "ipython3",
   "version": "3.6.3"
  }
 },
 "nbformat": 4,
 "nbformat_minor": 2
}
