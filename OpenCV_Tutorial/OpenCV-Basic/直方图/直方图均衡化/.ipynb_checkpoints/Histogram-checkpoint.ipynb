{
 "cells": [
  {
   "cell_type": "markdown",
   "metadata": {},
   "source": [
    "# 直方图"
   ]
  },
  {
   "cell_type": "markdown",
   "metadata": {},
   "source": [
    "## 1 使用OpenCV绘制直方图\n",
    "- 读取并分离通道\n",
    "- 计算每个通道的直方图"
   ]
  },
  {
   "cell_type": "code",
   "execution_count": 2,
   "metadata": {},
   "outputs": [],
   "source": [
    "import cv2    \n",
    "import numpy as np    \n",
    "     \n",
    "    \n",
    "def calcAndDrawHist(image, color):      \n",
    "    hist= cv2.calcHist([image], [0], None, [256], [0.0,255.0])   \n",
    "    ''''' \n",
    "    minMaxLoc寻找矩阵(一维数组当作向量,用Mat定义) 中最小值和最大值的位置      \n",
    "    注意：多通道图像在使用minMaxLoc()函数是不能给出其最大最小值坐标的，因为每个像 \n",
    "    素点其实有多个坐标，所以是不会给出的。因此在编程时，这2个位置应该给NULL。 \n",
    "    '''  \n",
    "    minVal, maxVal, minLoc, maxLoc = cv2.minMaxLoc(hist)   \n",
    "  \n",
    "    #创建绘制直方图的的图像，由于值全为0 所以它是黑色的   \n",
    "    histImg = np.zeros([256,256,3], np.uint8)    \n",
    "        \n",
    "    hpt = int(0.9* 256) #直方图的范围限定在0-255×0.9之间     \n",
    "          \n",
    "    for h in range(256):      \n",
    "        intensity = int(hist[h]*hpt/maxVal)  # 计算直方图的最大值再乘以一个系数  \n",
    "          \n",
    "        ''''' \n",
    "        绘制线 \n",
    "        histImg --   图像 \n",
    "        (h,256)  --  线段的第一个端点 \n",
    "        (h,256-intensity)  --  线段的第二个端点 \n",
    "        color  --  线段的颜色 \n",
    "        '''    \n",
    "        cv2.line(histImg,(h,256), (h,256-intensity), color)     \n",
    "              \n",
    "    return histImg;   \n",
    "  \n",
    "if __name__ == '__main__':      \n",
    "    img = cv2.imread(\"image/cat.jpg\")      \n",
    "    b, g, r = cv2.split(img)     # 使用Opencv 自带的分离函数 split     \n",
    "      \n",
    "    histImgB = calcAndDrawHist(b, [255, 0, 0])      \n",
    "    histImgG = calcAndDrawHist(g, [0, 255, 0])      \n",
    "    histImgR = calcAndDrawHist(r, [0, 0, 255])      \n",
    "          \n",
    "    cv2.imshow(\"histImgB\", histImgB)      \n",
    "    cv2.imshow(\"histImgG\", histImgG)      \n",
    "    cv2.imshow(\"histImgR\", histImgR)      \n",
    "    cv2.imshow(\"Img\", img)      \n",
    "    cv2.waitKey(0)      \n",
    "    cv2.destroyAllWindows()   "
   ]
  },
  {
   "cell_type": "code",
   "execution_count": null,
   "metadata": {},
   "outputs": [],
   "source": []
  }
 ],
 "metadata": {
  "kernelspec": {
   "display_name": "Python 3",
   "language": "python",
   "name": "python3"
  },
  "language_info": {
   "codemirror_mode": {
    "name": "ipython",
    "version": 3
   },
   "file_extension": ".py",
   "mimetype": "text/x-python",
   "name": "python",
   "nbconvert_exporter": "python",
   "pygments_lexer": "ipython3",
   "version": "3.6.3"
  }
 },
 "nbformat": 4,
 "nbformat_minor": 2
}
