{
 "cells": [
  {
   "cell_type": "markdown",
   "metadata": {},
   "source": [
    "# 像素重映射"
   ]
  },
  {
   "cell_type": "markdown",
   "metadata": {},
   "source": [
    "## 1 OpenCV API说明"
   ]
  },
  {
   "cell_type": "markdown",
   "metadata": {},
   "source": [
    "- **remap(src,img_x,img_y,cv2.INTER_LINEAR)**\n",
    "- src:输入的图像\n",
    "- img_x,img_y表示通过函数变换后的像素集合\n",
    "- cv2.INTER_LINEAR:插值方式，使用双线性插值方式\n",
    "    - INTER_NEAREST - 最近邻插值\n",
    "    - INTER_LINEAR – 双线性插值（默认值）\n",
    "    - INTER_CUBIC – 双三次样条插值（4×4像素邻域内的双三次插值）\n",
    "    - INTER_LANCZOS4 -Lanczos插值（8×8像素邻域的Lanczos插值）"
   ]
  },
  {
   "cell_type": "markdown",
   "metadata": {},
   "source": [
    "## 2 代码实现"
   ]
  },
  {
   "cell_type": "code",
   "execution_count": null,
   "metadata": {},
   "outputs": [],
   "source": [
    "import cv2\n",
    "import numpy as np"
   ]
  },
  {
   "cell_type": "code",
   "execution_count": null,
   "metadata": {},
   "outputs": [],
   "source": [
    "src = cv2.imread('image/goat.png')\n",
    "rows,cols,channels = src.shape"
   ]
  },
  {
   "cell_type": "code",
   "execution_count": null,
   "metadata": {},
   "outputs": [],
   "source": [
    "src.shape"
   ]
  },
  {
   "cell_type": "code",
   "execution_count": null,
   "metadata": {},
   "outputs": [],
   "source": [
    "img_x = np.zeros((rows,cols),np.float32)\n",
    "img_y = np.zeros((rows,cols),np.float32)\n",
    "\n",
    "# 坐标映射\n",
    "for y in range(rows):\n",
    "    for x in range(cols):\n",
    "        img_y[y,x] = rows - y\n",
    "        img_x[y,x] = cols - x\n",
    "\n",
    "dst = cv2.remap(src,img_x,img_y,cv2.INTER_LINEAR)\n",
    "\n",
    "cv2.imshow('src',src)\n",
    "cv2.imshow('dst',dst)\n",
    "\n",
    "cv2.waitKey()\n",
    "cv2.destroyAllWindows()"
   ]
  },
  {
   "cell_type": "code",
   "execution_count": null,
   "metadata": {},
   "outputs": [],
   "source": []
  }
 ],
 "metadata": {
  "kernelspec": {
   "display_name": "Python 3",
   "language": "python",
   "name": "python3"
  },
  "language_info": {
   "codemirror_mode": {
    "name": "ipython",
    "version": 3
   },
   "file_extension": ".py",
   "mimetype": "text/x-python",
   "name": "python",
   "nbconvert_exporter": "python",
   "pygments_lexer": "ipython3",
   "version": "3.6.3"
  }
 },
 "nbformat": 4,
 "nbformat_minor": 2
}
