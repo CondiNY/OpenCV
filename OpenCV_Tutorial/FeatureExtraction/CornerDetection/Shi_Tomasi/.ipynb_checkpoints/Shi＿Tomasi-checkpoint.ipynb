{
 "cells": [
  {
   "cell_type": "markdown",
   "metadata": {},
   "source": [
    "# Shi-Tomasi角点检测"
   ]
  },
  {
   "cell_type": "markdown",
   "metadata": {},
   "source": [
    "## 1 API说明\n",
    "- cv2.goodFeaturesToTrack(image, maxCorners, qualityLevel, minDistance[, corners[, mask[, blockSize[, useHarrisDetector[, k]]]]])\n",
    "- image 输入的灰度图像\n",
    "- maxCorners 要检测到的最大角点数量\n",
    "- qualityLevel 角点质量，值在0到1之间，低于此值的角点会被略掉。\n",
    "- minDistance 两个角点之间的最小距离，使用欧几里得距离\n",
    "- blocksize 可选，计算每个像素相邻矩阵导数时的平均块大小\n",
    "- mask 可选参数，表示角点的检测区域\n",
    "- k可选，使用harris角点检测的自由参数\n",
    "\n",
    "结果返回角点向量，将获得到的角点按照角点“质量”降序排列。将质量最高的角点排在第一位，然后过滤掉它周围minDistance之内的角点。以此类推"
   ]
  },
  {
   "cell_type": "markdown",
   "metadata": {},
   "source": [
    "## 2 代码实现"
   ]
  },
  {
   "cell_type": "code",
   "execution_count": null,
   "metadata": {},
   "outputs": [],
   "source": [
    "import cv2\n",
    "import numpy as np\n",
    "import matplotlib.pyplot as plt\n",
    "\n",
    "%matplotlib inline"
   ]
  },
  {
   "cell_type": "code",
   "execution_count": null,
   "metadata": {},
   "outputs": [],
   "source": [
    "filename = 'image/Tomasi_test_1.png'\n",
    "img = cv2.imread(filename)\n",
    "gray = cv2.cvtColor(img,cv2.COLOR_BGR2GRAY)\n",
    "\n",
    "# cv2.imshow(\"image\", gray) # 显示图片\n",
    "# cv2.waitKey(0) #等待按键"
   ]
  },
  {
   "cell_type": "code",
   "execution_count": null,
   "metadata": {},
   "outputs": [],
   "source": [
    "# Tomasi角点检测\n",
    "corners = cv2.goodFeaturesToTrack(gray,200,0.01,10)"
   ]
  },
  {
   "cell_type": "code",
   "execution_count": null,
   "metadata": {},
   "outputs": [],
   "source": [
    "for i in corners:\n",
    "    x,y = i.ravel()\n",
    "    cv2.circle(img,(x,y),10,255,-1)#在原图像上画出角点位置"
   ]
  },
  {
   "cell_type": "code",
   "execution_count": null,
   "metadata": {},
   "outputs": [],
   "source": [
    "cv2.imshow('output',img)\n",
    "cv2.waitKey(0)"
   ]
  },
  {
   "cell_type": "code",
   "execution_count": null,
   "metadata": {},
   "outputs": [],
   "source": []
  }
 ],
 "metadata": {
  "kernelspec": {
   "display_name": "Python 3",
   "language": "python",
   "name": "python3"
  },
  "language_info": {
   "codemirror_mode": {
    "name": "ipython",
    "version": 3
   },
   "file_extension": ".py",
   "mimetype": "text/x-python",
   "name": "python",
   "nbconvert_exporter": "python",
   "pygments_lexer": "ipython3",
   "version": "3.6.3"
  }
 },
 "nbformat": 4,
 "nbformat_minor": 2
}
