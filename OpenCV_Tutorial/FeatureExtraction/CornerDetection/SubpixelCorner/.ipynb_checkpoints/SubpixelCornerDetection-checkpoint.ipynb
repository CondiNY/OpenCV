{
 "cells": [
  {
   "cell_type": "markdown",
   "metadata": {},
   "source": [
    "# 亚像素角点检测"
   ]
  },
  {
   "cell_type": "markdown",
   "metadata": {},
   "source": [
    "## 1 API简介"
   ]
  },
  {
   "cell_type": "markdown",
   "metadata": {},
   "source": [
    "**cv.FindCornerSubPix(image, corners, win, zero_zone, criteria) → corners**\n",
    "- **image:**输入图像\n",
    "- **corners:**输入的角点\n",
    "- **winSize:**搜索窗口大小,如果winSize=Size(5,5)那么一个大小为(5*2+1)*(5*2+1)=11*11的搜索窗口被使用\n",
    "- **zeroZone:**搜索区域中间死区大小的一半，在该区域中未完成下面公式中的求和。 有时使用它来避免自相关矩阵的可能奇点。（-1，-1）的值表示没有这样的大小。\n",
    "- **criteria:**终止角点细化迭代过程的标准。也就是说，角点位置细化的过程在criteria.maxCount迭代之后或在某些迭代时角位置移动小于criteria.epsilon时停止。"
   ]
  },
  {
   "cell_type": "markdown",
   "metadata": {},
   "source": [
    "## 2 过程"
   ]
  },
  {
   "cell_type": "markdown",
   "metadata": {},
   "source": [
    "- 首先找出角点是使用Shi-Tomasi实现\n",
    "- 然后在做亚像素角点检测."
   ]
  },
  {
   "cell_type": "markdown",
   "metadata": {},
   "source": [
    "## 3 代码测试"
   ]
  },
  {
   "cell_type": "code",
   "execution_count": null,
   "metadata": {},
   "outputs": [],
   "source": [
    "import numpy as np\n",
    "import cv2"
   ]
  },
  {
   "cell_type": "code",
   "execution_count": null,
   "metadata": {},
   "outputs": [],
   "source": [
    "# termination criteria\n",
    "criteria = (cv2.TERM_CRITERIA_EPS + cv2.TERM_CRITERIA_MAX_ITER, 30, 0.001)\n",
    "\n",
    "# prepare object points, like (0,0,0), (1,0,0), (2,0,0) ....,(6,5,0)\n",
    "objp = np.zeros((6*7,3), np.float32)\n",
    "objp[:,:2] = np.mgrid[0:7,0:6].T.reshape(-1,2)\n",
    "\n",
    "# Arrays to store object points and image points from all the images.\n",
    "objpoints = [] # 3d point in real world space\n",
    "imgpoints = [] # 2d points in image plane."
   ]
  },
  {
   "cell_type": "code",
   "execution_count": null,
   "metadata": {},
   "outputs": [],
   "source": [
    "filename = 'image/test_image.png'\n",
    "\n",
    "img = cv2.imread(filename)\n",
    "gray = cv2.cvtColor(img,cv2.COLOR_BGR2GRAY)\n",
    "\n",
    "# Find the chess board corners\n",
    "corners = cv2.goodFeaturesToTrack(gray,200,0.01,10)\n",
    "\n",
    "# If found, add object points, image points  \n",
    "objpoints.append(objp)"
   ]
  },
  {
   "cell_type": "code",
   "execution_count": null,
   "metadata": {},
   "outputs": [],
   "source": [
    "# 亚像素角点检测\n",
    "corners2 = cv2.cornerSubPix(gray,corners,(11,11),(-1,-1),criteria)\n",
    "imgpoints.append(corners2)\n",
    "\n",
    "# Draw and display the corners\n",
    "img = cv2.drawChessboardCorners(img, (7,6), corners2,False)\n",
    "cv2.imshow('img',img)\n",
    "cv2.waitKey(20000)\n",
    "\n",
    "cv2.destroyAllWindows() "
   ]
  },
  {
   "cell_type": "markdown",
   "metadata": {},
   "source": [
    "## 参考资料\n",
    "1.[官方文档](https://docs.opencv.org/2.4/modules/imgproc/doc/feature_detection.html)<br>\n",
    "2.[Stack Overflow](https://stackoverflow.com/questions/33117252/cv2-cornersubpix-function-returns-none-value)"
   ]
  },
  {
   "cell_type": "code",
   "execution_count": null,
   "metadata": {},
   "outputs": [],
   "source": []
  }
 ],
 "metadata": {
  "kernelspec": {
   "display_name": "Python 3",
   "language": "python",
   "name": "python3"
  },
  "language_info": {
   "codemirror_mode": {
    "name": "ipython",
    "version": 3
   },
   "file_extension": ".py",
   "mimetype": "text/x-python",
   "name": "python",
   "nbconvert_exporter": "python",
   "pygments_lexer": "ipython3",
   "version": "3.6.3"
  }
 },
 "nbformat": 4,
 "nbformat_minor": 2
}
