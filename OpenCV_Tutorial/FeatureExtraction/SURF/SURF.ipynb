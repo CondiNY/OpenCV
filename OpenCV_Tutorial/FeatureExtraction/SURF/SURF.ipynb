{
 "cells": [
  {
   "cell_type": "markdown",
   "metadata": {},
   "source": [
    "# SURF特征检测\n",
    "- SURF算法可以粗略分成两个步骤：检测兴趣点，描述描述符"
   ]
  },
  {
   "cell_type": "markdown",
   "metadata": {},
   "source": [
    "## 1 API说明"
   ]
  },
  {
   "cell_type": "markdown",
   "metadata": {},
   "source": [
    "### 1.1 OpenCV 绘制关键点的函数: \n",
    "- cv2.drawKeyPoints(image,keypoints,outImage,color,flags),它可以在关键点的部位绘制一个小圆圈。\n",
    "  如果你设置参数为 cv2.DRAW_MATCHES_FLAGS_DRAW_RICH_就会绘制代表关键点大小的圆圈甚至可以绘制除关键点的方向。\n",
    "- 第一个参数image：原始图像，可以使三通道或单通道图像；\n",
    "- 第二个参数keypoints：特征点向量，向量内每一个元素是一个KeyPoint对象，包含了特征点的各种属性信息；\n",
    "- 第三个参数outImage：特征点绘制的画布图像，可以是原图像；\n",
    "- 第四个参数color：绘制的特征点的颜色信息，默认绘制的是随机彩色；\n",
    "- 第五个参数flags：特征点的绘制模式，其实就是设置特征点的那些信息需要绘制，哪些不需要绘制"
   ]
  },
  {
   "cell_type": "markdown",
   "metadata": {},
   "source": [
    "## 2 代码实现"
   ]
  },
  {
   "cell_type": "code",
   "execution_count": null,
   "metadata": {},
   "outputs": [],
   "source": [
    "import cv2 \n",
    "import numpy as np "
   ]
  },
  {
   "cell_type": "code",
   "execution_count": null,
   "metadata": {},
   "outputs": [],
   "source": [
    "img = cv2.imread('input_image/test_image.png')\n",
    " \n",
    "# 参数为hessian矩阵的阈值,SURF依赖于Hessian角点检测方法对于兴趣点的探测，因此需要设置一个min_hessian的阈值。\n",
    "# 这个阈值决定了一个点要称为兴趣点，它对应的Hessian filter输出至少要有多大。\n",
    "# 大的值输出的数量比较少但是它们更为突出，相比之下输出较小的值虽然多但是不够突出,这里选择400\n",
    "surf = cv2.xfeatures2d.SURF_create(400)\n",
    "#找到关键点和描述符\n",
    "keypoints,desc_query = surf.detectAndCompute(img,None)\n",
    "#把特征点标记到图片上\n",
    "img=cv2.drawKeypoints(img,keypoints,img)"
   ]
  },
  {
   "cell_type": "code",
   "execution_count": null,
   "metadata": {},
   "outputs": [],
   "source": [
    "cv2.imshow('sp',img)\n",
    "cv2.waitKey(0)"
   ]
  },
  {
   "cell_type": "code",
   "execution_count": null,
   "metadata": {},
   "outputs": [],
   "source": []
  },
  {
   "cell_type": "markdown",
   "metadata": {},
   "source": [
    "### 修改阈值"
   ]
  },
  {
   "cell_type": "code",
   "execution_count": null,
   "metadata": {},
   "outputs": [],
   "source": [
    "import cv2 \n",
    "import numpy as np \n",
    " \n",
    "img = cv2.imread('input_image/test_image.png')"
   ]
  },
  {
   "cell_type": "code",
   "execution_count": null,
   "metadata": {},
   "outputs": [],
   "source": [
    "#参数为hessian矩阵的阈值\n",
    "surf = cv2.xfeatures2d.SURF_create(600)\n",
    " \n",
    "#设置是否要检测方向\n",
    "surf.setUpright(True)\n",
    " \n",
    "#输出设置值\n",
    "print(surf.getUpright())\n",
    " \n",
    "#找到关键点和描述符\n",
    "keypoints,desc_query = surf.detectAndCompute(img,None)\n",
    " \n",
    "img=cv2.drawKeypoints(img,keypoints,img)\n",
    " \n",
    "#输出描述符的个数\n",
    "print(surf.descriptorSize())\n",
    " \n",
    " \n",
    "cv2.imshow('sp',img)\n",
    "cv2.waitKey(0)"
   ]
  },
  {
   "cell_type": "markdown",
   "metadata": {},
   "source": [
    "- 总结:通过图中可以看出,对于轮廓比较明显的部分特征点比较多,从这里看出,对于使用SURF特征检测,识别率还是挺高的.\n",
    "  并且阈值越大,特征点数就会越少."
   ]
  },
  {
   "cell_type": "markdown",
   "metadata": {},
   "source": [
    "## 参考文献\n",
    "1. [python opencv之SURF算法示例](https://www.jb51.net/article/135362.htm)\n",
    "2. [opencv学习](https://blog.csdn.net/ei1990/article/details/78289898)\n",
    "3. [OpenCV with Python Blueprints读书笔记 - 基于特征检测（SURF，SIFT方法）与特征匹配（Feature Matching）（FLANN方法）来寻找目标](https://www.jianshu.com/p/1f6195352b26?nomobile=yes)\n",
    "4. [opencv图像特征检测及匹配（harris，sift，surf，fast，breif，orb，BFmatch，FlannBasedMatcher）](https://blog.csdn.net/weixin_37565420/article/details/79090644)"
   ]
  },
  {
   "cell_type": "markdown",
   "metadata": {},
   "source": [
    "## 后续匹配问题\n",
    "- [OpenCV-Python sift/surf特征匹配与显示](https://blog.csdn.net/dcrmg/article/details/78817988)\n",
    "- [OpenCV with Python Blueprints读书笔记 - 基于特征检测（SURF，SIFT方法）与特征匹配（Feature Matching）（FLANN方法）来寻找目标](https://www.jianshu.com/p/1f6195352b26?nomobile=yes)"
   ]
  },
  {
   "cell_type": "code",
   "execution_count": null,
   "metadata": {},
   "outputs": [],
   "source": []
  }
 ],
 "metadata": {
  "kernelspec": {
   "display_name": "Python 3",
   "language": "python",
   "name": "python3"
  },
  "language_info": {
   "codemirror_mode": {
    "name": "ipython",
    "version": 3
   },
   "file_extension": ".py",
   "mimetype": "text/x-python",
   "name": "python",
   "nbconvert_exporter": "python",
   "pygments_lexer": "ipython3",
   "version": "3.6.3"
  }
 },
 "nbformat": 4,
 "nbformat_minor": 2
}
