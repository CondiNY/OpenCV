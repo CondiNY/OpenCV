{
 "cells": [
  {
   "cell_type": "markdown",
   "metadata": {},
   "source": [
    "# 边缘直线检测\n",
    "- 通过图像形态学操作来寻找直线，霍夫获取位置信息与显示。然后获取坐标等。"
   ]
  },
  {
   "cell_type": "markdown",
   "metadata": {},
   "source": [
    "## 形态学操作\n",
    "#### 开运算\n",
    "* 先腐蚀后膨胀\n",
    "- 作用：放大裂缝和低密度区域，消除小物体，在平滑较大物体的边界时，不改变其面积\n"
   ]
  },
  {
   "cell_type": "markdown",
   "metadata": {},
   "source": [
    "#### 闭运算\n",
    "* 先膨胀后腐蚀\n",
    "- 作用：排除小型黑洞，突触了比原图轮廓区域更暗的区域"
   ]
  },
  {
   "cell_type": "code",
   "execution_count": 1,
   "metadata": {
    "collapsed": true
   },
   "outputs": [],
   "source": [
    "import cv2    \n",
    "import numpy as np   "
   ]
  },
  {
   "cell_type": "code",
   "execution_count": 4,
   "metadata": {
    "collapsed": true
   },
   "outputs": [],
   "source": [
    "img = cv2.imread(\"./input/paod.png\")  \n",
    "\n",
    "# 边缘提取\n",
    "edges = cv2.Canny(img, 110, 255, apertureSize = 3)  \n",
    " \n",
    "#OpenCV定义的结构元素  \n",
    "kernel = cv2.getStructuringElement(cv2.MORPH_RECT,(25,3))  \n",
    "#膨胀图像  \n",
    "dilated = cv2.dilate(edges,kernel)  \n",
    "#腐蚀图像  \n",
    "kernel = cv2.getStructuringElement(cv2.MORPH_RECT,(25,3)) \n",
    "eroded = cv2.erode(dilated,kernel)  \n",
    "#显示腐蚀后的图像    \n",
    "cv2.imshow(\"Eroded Image\",eroded);    \n",
    "#经验参数  \n",
    "minLineLength = 0  \n",
    "maxLineGap = 100 \n",
    "lines = cv2.HoughLinesP(eroded,1,np.pi/180,90,minLineLength,maxLineGap)  \n",
    "for i in range(len(lines)):\n",
    "    for x1,y1,x2,y2 in lines[i] :  \n",
    "        if y1< 100 or x2<100 or y2 <210:\n",
    "            pass\n",
    "        else:\n",
    "            cv2.line(img,(x1,y1),(x2,y2),(0,255,0),3)  \n",
    "#             cv2.putText(img, str(i), (x1, y1), cv2.FONT_HERSHEY_SIMPLEX, 0.6,(0, 0, 255), 2)      \n",
    "#             print('lines'+str(i),x1,y1)  \n",
    "# cv2.line(img,(0,0),(100,700),(0,255,255),3)  \n",
    "cv2.imshow('Result', img)  \n",
    "cv2.waitKey(0)  \n",
    "cv2.destroyAllWindows() \n"
   ]
  },
  {
   "cell_type": "code",
   "execution_count": null,
   "metadata": {
    "collapsed": true
   },
   "outputs": [],
   "source": []
  }
 ],
 "metadata": {
  "kernelspec": {
   "display_name": "Python 3",
   "language": "python",
   "name": "python3"
  },
  "language_info": {
   "codemirror_mode": {
    "name": "ipython",
    "version": 3
   },
   "file_extension": ".py",
   "mimetype": "text/x-python",
   "name": "python",
   "nbconvert_exporter": "python",
   "pygments_lexer": "ipython3",
   "version": "3.6.3"
  }
 },
 "nbformat": 4,
 "nbformat_minor": 2
}
